{
 "cells": [
  {
   "cell_type": "code",
   "execution_count": null,
   "id": "08d7997f",
   "metadata": {},
   "outputs": [
    {
     "name": "stdout",
     "output_type": "stream",
     "text": [
      "\n",
      "--- Téléchargement des ressources NLTK spécifiques (peut prendre du temps) ---\n",
      "Cela garantit que les ressources sont au bon endroit et disponibles.\n",
      "Ressource 'punkt' déjà trouvée.\n",
      "Ressource 'stopwords' déjà trouvée.\n",
      "Téléchargement de la ressource 'wordnet'...\n"
     ]
    },
    {
     "name": "stderr",
     "output_type": "stream",
     "text": [
      "[nltk_data] Downloading package wordnet to c:\\Users\\pc\\Desktop\\Projet_\n",
      "[nltk_data]     Data_science\\AeroPulse_Corp\\NLP_project\\Code\\nltk_data\n",
      "[nltk_data]     \\nltk_data...\n",
      "[nltk_data]   Package wordnet is already up-to-date!\n",
      "[nltk_data] Downloading package omw-1.4 to c:\\Users\\pc\\Desktop\\Projet_\n",
      "[nltk_data]     Data_science\\AeroPulse_Corp\\NLP_project\\Code\\nltk_data\n",
      "[nltk_data]     \\nltk_data...\n"
     ]
    },
    {
     "name": "stdout",
     "output_type": "stream",
     "text": [
      "Ressource 'wordnet' téléchargée avec succès.\n",
      "Téléchargement de la ressource 'omw-1.4'...\n",
      "Ressource 'omw-1.4' téléchargée avec succès.\n",
      "\n",
      "--- Initialisation NLTK Complétée ---\n"
     ]
    },
    {
     "name": "stderr",
     "output_type": "stream",
     "text": [
      "[nltk_data]   Package omw-1.4 is already up-to-date!\n"
     ]
    }
   ],
   "source": [
    "import pandas as pd\n",
    "import numpy as np # type: ignore\n",
    "import matplotlib.pyplot as plt\n",
    "import seaborn as sns\n",
    "import nltk\n",
    "import os # Pour gérer les chemins de fichiers\n",
    "\n",
    "# --- Configuration et Installation NLTK ---\n",
    "\n",
    "# 1. Vérifiez et installez NLTK si ce n'est pas déjà fait\n",
    "try:\n",
    "    import nltk\n",
    "except ImportError:\n",
    "    print(\"NLTK non trouvé. Installation...\")\n",
    "    !pip install nltk\n",
    "    import nltk # Ré-importer après installation\n",
    "    print(\"NLTK installé avec succès.\")\n",
    "\n",
    "# 2. Définir le chemin où NLTK stockera ses données\n",
    "# Nous allons créer un dossier 'nltk_data' DANS LE MÊME DOSSIER QUE VOTRE NOTEBOOK.\n",
    "# Cela garantit les permissions d'écriture et la portabilité du projet.\n",
    "current_notebook_dir = os.getcwd() # C'est le dossier où votre notebook est sauvegardé\n",
    "custom_nltk_data_path = os.path.join(current_notebook_dir, \"nltk_data\")\n",
    "\n",
    "# Créer le dossier si non existant\n",
    "if not os.path.exists(custom_nltk_data_path):\n",
    "    os.makedirs(custom_nltk_data_path)\n",
    "    print(f\"Dossier de données NLTK personnalisé créé : {custom_nltk_data_path}\")\n",
    "\n",
    "# Indiquer à NLTK d'utiliser ce chemin en premier\n",
    "# C'est TRÈS IMPORTANT pour résoudre les LookupError.\n",
    "nltk.data.path.insert(0, custom_nltk_data_path) # Insère notre chemin en priorité\n",
    "\n",
    "\n",
    "# 3. Téléchargement des ressources NLTK nécessaires\n",
    "print(\"\\n--- Téléchargement des ressources NLTK spécifiques (peut prendre du temps) ---\")\n",
    "print(\"Cela garantit que les ressources sont au bon endroit et disponibles.\")\n",
    "\n",
    "required_nltk_resources = [\n",
    "    'punkt',     # Pour word_tokenize et sent_tokenize\n",
    "    'stopwords', # Pour la suppression des mots vides\n",
    "    'wordnet',   # Pour la lemmatisation\n",
    "    'omw-1.4'    # Dépendance de wordnet\n",
    "]\n",
    "\n",
    "for resource in required_nltk_resources:\n",
    "    try:\n",
    "        # Tente de trouver la ressource. Si non trouvée, déclenche une LookupError.\n",
    "        nltk.data.find(f'tokenizers/{resource}' if resource == 'punkt' else f'corpora/{resource}')\n",
    "        print(f\"Ressource '{resource}' déjà trouvée.\")\n",
    "    except LookupError:\n",
    "        print(f\"Téléchargement de la ressource '{resource}'...\")\n",
    "        try:\n",
    "            nltk.download(resource, download_dir=custom_nltk_data_path, quiet=False)\n",
    "            print(f\"Ressource '{resource}' téléchargée avec succès.\")\n",
    "        except Exception as e:\n",
    "            print(f\"ERREUR lors du téléchargement de '{resource}': {e}\")\n",
    "            print(\"Vérifiez votre connexion internet ou les permissions d'écriture.\")\n",
    "            # Si un téléchargement échoue, il est important de le savoir.\n",
    "\n",
    "\n",
    "print(\"\\n--- Initialisation NLTK Complétée ---\")\n",
    "\n",
    "# --- Après cette cellule, vous pouvez commencer le reste de votre code de préparation NLP ---\n",
    "# (Chargement de df_tweets, étapes A à I, etc.)\n",
    "# Ne mettez plus de nltk.download() dans les étapes suivantes du nettoyage,\n",
    "# car elles sont censées avoir été téléchargées ici."
   ]
  }
 ],
 "metadata": {
  "kernelspec": {
   "display_name": "base",
   "language": "python",
   "name": "python3"
  },
  "language_info": {
   "codemirror_mode": {
    "name": "ipython",
    "version": 3
   },
   "file_extension": ".py",
   "mimetype": "text/x-python",
   "name": "python",
   "nbconvert_exporter": "python",
   "pygments_lexer": "ipython3",
   "version": "3.12.4"
  }
 },
 "nbformat": 4,
 "nbformat_minor": 5
}
